{
  "cells": [
    {
      "cell_type": "code",
      "execution_count": null,
      "metadata": {
        "id": "SWVNJaFD7SQE"
      },
      "outputs": [],
      "source": [
        "# !pip install --upgrade keras"
      ]
    },
    {
      "cell_type": "code",
      "execution_count": 1,
      "metadata": {
        "id": "CV5T6zFr4RYc"
      },
      "outputs": [],
      "source": [
        "import tensorflow as tf\n",
        "# Builtin Dataset of keras\n",
        "from tensorflow.keras.datasets import boston_housing\n",
        "from sklearn import preprocessing\n",
        "from tensorflow.keras.models import Sequential\n",
        "from tensorflow.keras.layers import Dense"
      ]
    },
    {
      "cell_type": "code",
      "execution_count": 3,
      "metadata": {
        "id": "5yd8GA8I8Ye5"
      },
      "outputs": [],
      "source": [
        "# Train-Test splitting\n",
        "(train_x, train_y), (test_x, test_y) = boston_housing.load_data()"
      ]
    },
    {
      "cell_type": "code",
      "execution_count": null,
      "metadata": {
        "id": "5Hy4yfKL8mKZ"
      },
      "outputs": [],
      "source": [
        "print('Train shape: ', train_x.shape)\n",
        "print('Test shape: ', test_x.shape)\n",
        "print('Actual Train output: ', train_y.shape)\n",
        "print('Actual Test output: ', test_y.shape)\n"
      ]
    },
    {
      "cell_type": "code",
      "execution_count": null,
      "metadata": {
        "id": "zVGf2d6Z9CH7"
      },
      "outputs": [],
      "source": [
        "train_x[0]"
      ]
    },
    {
      "cell_type": "code",
      "execution_count": null,
      "metadata": {
        "colab": {
          "base_uri": "https://localhost:8080/"
        },
        "id": "kCteaGYQ9IZI",
        "outputId": "7d4b0b4d-6a0b-413d-91c3-4a94487e170a"
      },
      "outputs": [],
      "source": [
        "train_y[0]"
      ]
    },
    {
      "cell_type": "code",
      "execution_count": 6,
      "metadata": {
        "id": "e_ueNfwF9LsS"
      },
      "outputs": [],
      "source": [
        "# Preprocessing to make sure data is uniform ( 0 < data < 1)\n",
        "scaler = preprocessing.StandardScaler()\n",
        "train_x = scaler.fit_transform(train_x)\n",
        "test_x = scaler.transform(test_x)\n"
      ]
    },
    {
      "cell_type": "code",
      "execution_count": null,
      "metadata": {
        "colab": {
          "base_uri": "https://localhost:8080/"
        },
        "id": "uQ1rM-5G-g_-",
        "outputId": "b4132fbc-5919-4505-b703-28d617d83e66"
      },
      "outputs": [],
      "source": [
        "train_x[0]"
      ]
    },
    {
      "cell_type": "code",
      "execution_count": null,
      "metadata": {
        "colab": {
          "base_uri": "https://localhost:8080/"
        },
        "id": "23ERtRKA-g8p",
        "outputId": "83ea472a-d7c5-477b-eb9b-83d902d09545"
      },
      "outputs": [],
      "source": [
        "train_y[0]"
      ]
    },
    {
      "cell_type": "code",
      "execution_count": 9,
      "metadata": {
        "id": "7u9HN83u-pvy"
      },
      "outputs": [],
      "source": [
        "\n",
        "def HPPM():\n",
        "  model = Sequential()\n",
        "  model.add(Dense(128, activation = 'relu', input_shape = (train_x[0].shape)))\n",
        "  model.add(Dense(64, activation = 'relu'))\n",
        "  model.add(Dense(32, activation = 'relu'))\n",
        "  model.add(Dense(1))\n",
        "  model.compile(optimizer = 'rmsprop', loss = 'mse', metrics = ['mae'])\n",
        "  return model\n"
      ]
    },
    {
      "cell_type": "code",
      "execution_count": 10,
      "metadata": {
        "id": "jfMtKqAv_G3x"
      },
      "outputs": [],
      "source": [
        "import numpy as np\n",
        "k = 4\n",
        "num_val_samples = len(train_x)\n",
        "num_epochs = 100\n",
        "all_scrs = []\n"
      ]
    },
    {
      "cell_type": "code",
      "execution_count": null,
      "metadata": {
        "colab": {
          "base_uri": "https://localhost:8080/"
        },
        "id": "fNDPWTME-ps5",
        "outputId": "a1b82330-093c-4f67-b7e2-5c0538a0fdd5"
      },
      "outputs": [],
      "source": [
        "model = HPPM()\n",
        "history = model.fit(x = train_x,\n",
        "                    y = train_y,\n",
        "                    epochs = num_epochs,\n",
        "                    batch_size = 1,\n",
        "                    verbose = 1,\n",
        "                    validation_data = (test_x, test_y))"
      ]
    },
    {
      "cell_type": "code",
      "execution_count": null,
      "metadata": {
        "colab": {
          "base_uri": "https://localhost:8080/"
        },
        "id": "B6DiE7ULEgq3",
        "outputId": "da179b4b-0230-41a7-b013-74a4acfc5411"
      },
      "outputs": [],
      "source": [
        "mse, mae = model.evaluate(test_x, test_y, verbose = 0)\n",
        "print('Mean Squared Error on Test set: ', mse)\n",
        "print('Mean Absolute Error on Test set: ', mae)"
      ]
    },
    {
      "cell_type": "code",
      "execution_count": null,
      "metadata": {
        "colab": {
          "base_uri": "https://localhost:8080/"
        },
        "id": "TGE_6JLDE-02",
        "outputId": "7d59dbc3-89b5-482d-c10e-d45abc7a4e29"
      },
      "outputs": [],
      "source": [
        "predictions = model.predict(test_x)"
      ]
    },
    {
      "cell_type": "code",
      "execution_count": null,
      "metadata": {
        "colab": {
          "base_uri": "https://localhost:8080/"
        },
        "id": "lAFBde0bFCKt",
        "outputId": "30ab98cc-8da8-45bf-a612-c166567cbe06"
      },
      "outputs": [],
      "source": [
        "for i in range(10):\n",
        "  print(\"Predicted: \", predictions[i][0], \"Actual: \", test_y[i])"
      ]
    }
  ],
  "metadata": {
    "colab": {
      "provenance": []
    },
    "kernelspec": {
      "display_name": "Python 3",
      "name": "python3"
    },
    "language_info": {
      "codemirror_mode": {
        "name": "ipython",
        "version": 3
      },
      "file_extension": ".py",
      "mimetype": "text/x-python",
      "name": "python",
      "nbconvert_exporter": "python",
      "pygments_lexer": "ipython3",
      "version": "3.11.1"
    }
  },
  "nbformat": 4,
  "nbformat_minor": 0
}
